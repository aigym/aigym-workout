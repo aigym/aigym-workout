{
 "cells": [
  {
   "cell_type": "markdown",
   "metadata": {},
   "source": [
    "# Packages\n",
    "\n",
    "Julia has over 2000 registered packages, making packages a huge part of the Julia ecosystem.\n",
    "\n",
    "Even so, the package ecosystem still has some growing to do. Notably, we have first class function calls  to other languages, providing excellent foreign function interfaces. We can easily call into python or R, for example, with `PyCall` or `Rcall`.\n",
    "\n",
    "This means that you don't have to wait until the Julia ecosystem is fully mature, and that moving to Julia doesn't mean you have to give up your favorite package/library from another language!\n",
    "\n",
    "To see all available packages, check out\n",
    "\n",
    "https://pkg.julialang.org/\n",
    "or\n",
    "https://juliaobserver.com/\n",
    "\n",
    "For now, let's learn how to use a package."
   ]
  },
  {
   "cell_type": "markdown",
   "metadata": {},
   "source": [
    "The first time you use a package on a given Julia installation, you need to use the package manager to explicitly add it:"
   ]
  },
  {
   "cell_type": "code",
   "execution_count": 1,
   "metadata": {
    "execution": {
     "iopub.execute_input": "2020-06-24T04:33:41.240Z",
     "iopub.status.busy": "2020-06-24T04:33:39.463Z",
     "iopub.status.idle": "2020-06-24T04:34:41.323Z"
    }
   },
   "outputs": [
    {
     "name": "stderr",
     "output_type": "stream",
     "text": [
      "\u001b[32m\u001b[1m   Updating\u001b[22m\u001b[39m registry at `C:\\Users\\Home\\.julia\\registries\\General`\n",
      "\u001b[32m\u001b[1m   Updating\u001b[22m\u001b[39m git-repo `https://github.com/JuliaRegistries/General.git`\n",
      "\u001b[32m\u001b[1m  Resolving\u001b[22m\u001b[39m package versions...\n",
      "\u001b[32m\u001b[1m  Installed\u001b[22m\u001b[39m Example ─ v0.5.3\n",
      "\u001b[32m\u001b[1m   Updating\u001b[22m\u001b[39m `C:\\Users\\Home\\.julia\\environments\\v1.4\\Project.toml`\n",
      " \u001b[90m [7876af07]\u001b[39m\u001b[92m + Example v0.5.3\u001b[39m\n",
      "\u001b[32m\u001b[1m   Updating\u001b[22m\u001b[39m `C:\\Users\\Home\\.julia\\environments\\v1.4\\Manifest.toml`\n",
      " \u001b[90m [7876af07]\u001b[39m\u001b[92m + Example v0.5.3\u001b[39m\n"
     ]
    },
    {
     "name": "stdout",
     "output_type": "stream",
     "text": [
      "\u001b[?25l    \u001b[36m\u001b[1mFetching:\u001b[22m\u001b[39m [>                                        ]  0.0 %\r",
      "    \u001b[36m\u001b[1mFetching:\u001b[22m\u001b[39m [========================================>]  100.0 %\r",
      "\u001b[2K\u001b[?25h"
     ]
    }
   ],
   "source": [
    "using Pkg\n",
    "Pkg.add(\"Example\")"
   ]
  },
  {
   "cell_type": "markdown",
   "metadata": {},
   "source": [
    "Every time you use Julia (start a new session at the REPL, or open a notebook for the first time, for example), you load the package with the `using` keyword"
   ]
  },
  {
   "cell_type": "code",
   "execution_count": 2,
   "metadata": {
    "execution": {
     "iopub.execute_input": "2020-06-24T04:34:58.782Z",
     "iopub.status.busy": "2020-06-24T04:34:58.772Z",
     "iopub.status.idle": "2020-06-24T04:34:59.427Z"
    }
   },
   "outputs": [
    {
     "name": "stderr",
     "output_type": "stream",
     "text": [
      "┌ Info: Precompiling Example [7876af07-990d-54b4-ab0e-23690620f79a]\n",
      "└ @ Base loading.jl:1260\n"
     ]
    }
   ],
   "source": [
    "using Example"
   ]
  },
  {
   "cell_type": "markdown",
   "metadata": {},
   "source": [
    "In the source code of `Example.jl` at\n",
    "https://github.com/JuliaLang/Example.jl/blob/master/src/Example.jl\n",
    "we see the following function declared\n",
    "\n",
    "```\n",
    "hello(who::String) = \"Hello, $who\"\n",
    "```\n",
    "\n",
    "Having loaded `Example`, we should now be able to call `hello`"
   ]
  },
  {
   "cell_type": "code",
   "execution_count": 3,
   "metadata": {
    "execution": {
     "iopub.execute_input": "2020-06-24T04:35:06.920Z",
     "iopub.status.busy": "2020-06-24T04:35:06.913Z",
     "iopub.status.idle": "2020-06-24T04:35:07.543Z"
    }
   },
   "outputs": [
    {
     "data": {
      "text/plain": [
       "\"Hello, it's me. I was wondering if after all these years you'd like to meet.\""
      ]
     },
     "execution_count": 3,
     "metadata": {},
     "output_type": "execute_result"
    }
   ],
   "source": [
    "hello(\"it's me. I was wondering if after all these years you'd like to meet.\")"
   ]
  },
  {
   "cell_type": "markdown",
   "metadata": {},
   "source": [
    "Now let's play with the Colors package"
   ]
  },
  {
   "cell_type": "code",
   "execution_count": 4,
   "metadata": {
    "execution": {
     "iopub.execute_input": "2020-06-24T04:35:14.653Z",
     "iopub.status.busy": "2020-06-24T04:35:14.645Z",
     "iopub.status.idle": "2020-06-24T04:35:14.876Z"
    }
   },
   "outputs": [
    {
     "name": "stderr",
     "output_type": "stream",
     "text": [
      "\u001b[32m\u001b[1m  Resolving\u001b[22m\u001b[39m package versions...\n",
      "\u001b[32m\u001b[1m   Updating\u001b[22m\u001b[39m `C:\\Users\\Home\\.julia\\environments\\v1.4\\Project.toml`\n",
      " \u001b[90m [5ae59095]\u001b[39m\u001b[92m + Colors v0.12.2\u001b[39m\n",
      "\u001b[32m\u001b[1m   Updating\u001b[22m\u001b[39m `C:\\Users\\Home\\.julia\\environments\\v1.4\\Manifest.toml`\n",
      " \u001b[90m [3da002f7]\u001b[39m\u001b[92m + ColorTypes v0.10.4\u001b[39m\n",
      " \u001b[90m [5ae59095]\u001b[39m\u001b[92m + Colors v0.12.2\u001b[39m\n",
      " \u001b[90m [53c48c17]\u001b[39m\u001b[92m + FixedPointNumbers v0.8.1\u001b[39m\n",
      " \u001b[90m [189a3867]\u001b[39m\u001b[92m + Reexport v0.2.0\u001b[39m\n"
     ]
    }
   ],
   "source": [
    "Pkg.add(\"Colors\")"
   ]
  },
  {
   "cell_type": "code",
   "execution_count": 5,
   "metadata": {
    "execution": {
     "iopub.execute_input": "2020-06-24T04:35:19.318Z",
     "iopub.status.busy": "2020-06-24T04:35:19.309Z",
     "iopub.status.idle": "2020-06-24T04:35:38.762Z"
    }
   },
   "outputs": [
    {
     "name": "stderr",
     "output_type": "stream",
     "text": [
      "┌ Info: Precompiling Colors [5ae59095-9a9b-59fe-a467-6f913c188581]\n",
      "└ @ Base loading.jl:1260\n"
     ]
    }
   ],
   "source": [
    "using Colors"
   ]
  },
  {
   "cell_type": "markdown",
   "metadata": {},
   "source": [
    "Let's create a palette of 100 different colors"
   ]
  },
  {
   "cell_type": "code",
   "execution_count": null,
   "metadata": {},
   "outputs": [],
   "source": [
    "palette = distinguishable_colors(100)"
   ]
  },
  {
   "cell_type": "markdown",
   "metadata": {},
   "source": [
    "and then we can create a randomly checkered matrix using the `rand` command"
   ]
  },
  {
   "cell_type": "code",
   "execution_count": null,
   "metadata": {},
   "outputs": [],
   "source": [
    "rand(palette, 3, 3)"
   ]
  },
  {
   "cell_type": "markdown",
   "metadata": {},
   "source": [
    "In the next notebook, we'll use a new package to plot datasets."
   ]
  },
  {
   "cell_type": "markdown",
   "metadata": {},
   "source": [
    "### Exercises\n",
    "\n",
    "#### 7.1\n",
    "Load the Primes package (source code at https://github.com/JuliaMath/Primes.jl)."
   ]
  },
  {
   "cell_type": "code",
   "execution_count": 6,
   "metadata": {
    "collapsed": true,
    "execution": {
     "iopub.execute_input": "2020-06-24T04:36:15.345Z",
     "iopub.status.busy": "2020-06-24T04:36:15.339Z",
     "iopub.status.idle": "2020-06-24T04:36:20.408Z"
    },
    "jupyter": {
     "outputs_hidden": false,
     "source_hidden": false
    },
    "nteract": {
     "transient": {
      "deleting": false
     }
    }
   },
   "outputs": [
    {
     "name": "stderr",
     "output_type": "stream",
     "text": [
      "\u001b[32m\u001b[1m  Resolving\u001b[22m\u001b[39m package versions...\n",
      "\u001b[32m\u001b[1m  Installed\u001b[22m\u001b[39m Primes ─ v0.5.0\n",
      "\u001b[32m\u001b[1m   Updating\u001b[22m\u001b[39m `C:\\Users\\Home\\.julia\\environments\\v1.4\\Project.toml`\n",
      " \u001b[90m [27ebfcd6]\u001b[39m\u001b[92m + Primes v0.5.0\u001b[39m\n",
      "\u001b[32m\u001b[1m   Updating\u001b[22m\u001b[39m `C:\\Users\\Home\\.julia\\environments\\v1.4\\Manifest.toml`\n",
      " \u001b[90m [27ebfcd6]\u001b[39m\u001b[92m + Primes v0.5.0\u001b[39m\n"
     ]
    }
   ],
   "source": [
    "Pkg.add(\"Primes\")"
   ]
  },
  {
   "cell_type": "code",
   "execution_count": 8,
   "metadata": {
    "collapsed": true,
    "execution": {
     "iopub.execute_input": "2020-06-24T04:36:46.316Z",
     "iopub.status.busy": "2020-06-24T04:36:46.308Z",
     "iopub.status.idle": "2020-06-24T04:36:46.922Z"
    },
    "jupyter": {
     "outputs_hidden": false,
     "source_hidden": false
    },
    "nteract": {
     "transient": {
      "deleting": false
     }
    }
   },
   "outputs": [
    {
     "name": "stderr",
     "output_type": "stream",
     "text": [
      "┌ Info: Precompiling Primes [27ebfcd6-29c5-5fa9-bf4b-fb8fc14df3ae]\n",
      "└ @ Base loading.jl:1260\n"
     ]
    }
   ],
   "source": [
    "using Primes"
   ]
  },
  {
   "cell_type": "code",
   "execution_count": 9,
   "metadata": {
    "execution": {
     "iopub.execute_input": "2020-06-24T04:36:48.825Z",
     "iopub.status.busy": "2020-06-24T04:36:48.819Z",
     "iopub.status.idle": "2020-06-24T04:36:48.836Z"
    }
   },
   "outputs": [],
   "source": [
    "@assert @isdefined Primes"
   ]
  },
  {
   "cell_type": "markdown",
   "metadata": {},
   "source": [
    "#### 7.2\n",
    "Verify that you can now use the function `primes` to grab all prime numbers under 1,000,000 and store it in variable `primes_list`"
   ]
  },
  {
   "cell_type": "code",
   "execution_count": 10,
   "metadata": {
    "collapsed": true,
    "execution": {
     "iopub.execute_input": "2020-06-24T04:37:15.757Z",
     "iopub.status.busy": "2020-06-24T04:37:15.748Z",
     "iopub.status.idle": "2020-06-24T04:37:16.734Z"
    },
    "jupyter": {
     "outputs_hidden": false,
     "source_hidden": false
    },
    "nteract": {
     "transient": {
      "deleting": false
     }
    }
   },
   "outputs": [
    {
     "data": {
      "text/plain": [
       "78498-element Array{Int64,1}:\n",
       "      2\n",
       "      3\n",
       "      5\n",
       "      7\n",
       "     11\n",
       "     13\n",
       "     17\n",
       "     19\n",
       "     23\n",
       "     29\n",
       "     31\n",
       "     37\n",
       "     41\n",
       "      ⋮\n",
       " 999809\n",
       " 999853\n",
       " 999863\n",
       " 999883\n",
       " 999907\n",
       " 999917\n",
       " 999931\n",
       " 999953\n",
       " 999959\n",
       " 999961\n",
       " 999979\n",
       " 999983"
      ]
     },
     "execution_count": 10,
     "metadata": {},
     "output_type": "execute_result"
    }
   ],
   "source": [
    "primes_list = primes(1000000)"
   ]
  },
  {
   "cell_type": "code",
   "execution_count": 11,
   "metadata": {
    "execution": {
     "iopub.execute_input": "2020-06-24T04:37:26.562Z",
     "iopub.status.busy": "2020-06-24T04:37:26.557Z",
     "iopub.status.idle": "2020-06-24T04:37:26.572Z"
    }
   },
   "outputs": [],
   "source": [
    "@assert primes_list == primes(1000000)"
   ]
  }
 ],
 "metadata": {
  "kernelspec": {
   "display_name": "Julia 1.4.2",
   "language": "julia",
   "name": "julia-1.4"
  },
  "language_info": {
   "file_extension": ".jl",
   "mimetype": "application/julia",
   "name": "julia",
   "version": "1.4.2"
  },
  "nteract": {
   "version": "0.23.3"
  }
 },
 "nbformat": 4,
 "nbformat_minor": 3
}
