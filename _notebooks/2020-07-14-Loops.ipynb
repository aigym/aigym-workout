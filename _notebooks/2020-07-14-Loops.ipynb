{
  "cells": [
    {
      "cell_type": "markdown",
      "source": [
        "# Loops\n",
        "\n",
        "Topics:\n",
        "1. `while` loops\n",
        "2. `for` loops\n",
        "<br>\n",
        "\n",
        "## while loops\n",
        "\n",
        "The syntax for a `while` is\n",
        "\n",
        "```julia\n",
        "while *condition*\n",
        "    *loop body*\n",
        "end\n",
        "```\n",
        "\n",
        "For example, we could use `while` to count or to iterate over an array."
      ],
      "metadata": {}
    },
    {
      "cell_type": "code",
      "source": [
        "n = 0\n",
        "while n < 10\n",
        "    n += 1\n",
        "    println(n)\n",
        "end\n",
        "n"
      ],
      "outputs": [
        {
          "output_type": "stream",
          "name": "stdout",
          "text": [
            "1\n",
            "2\n",
            "3\n",
            "4\n",
            "5\n",
            "6\n",
            "7\n",
            "8\n",
            "9\n",
            "10\n"
          ]
        },
        {
          "output_type": "execute_result",
          "execution_count": 1,
          "data": {
            "text/plain": "10"
          },
          "metadata": {}
        }
      ],
      "execution_count": 1,
      "metadata": {
        "execution": {
          "iopub.status.busy": "2020-07-14T03:55:31.708Z",
          "iopub.execute_input": "2020-07-14T03:55:32.792Z",
          "iopub.status.idle": "2020-07-14T03:55:34.492Z"
        }
      }
    },
    {
      "cell_type": "code",
      "source": [
        "myfriends = [\"Ted\", \"Robyn\", \"Barney\", \"Lily\", \"Marshall\"]\n",
        "\n",
        "i = 1\n",
        "while i <= length(myfriends)\n",
        "    friend = myfriends[i]\n",
        "    println(\"Hi $friend, it's great to see you!\")\n",
        "    i += 1\n",
        "end"
      ],
      "outputs": [
        {
          "output_type": "stream",
          "name": "stdout",
          "text": [
            "Hi Ted, it's great to see you!\n",
            "Hi Robyn, it's great to see you!\n",
            "Hi Barney, it's great to see you!\n",
            "Hi Lily, it's great to see you!\n",
            "Hi Marshall, it's great to see you!\n"
          ]
        }
      ],
      "execution_count": 2,
      "metadata": {
        "execution": {
          "iopub.status.busy": "2020-07-14T03:55:55.062Z",
          "iopub.execute_input": "2020-07-14T03:55:55.087Z",
          "iopub.status.idle": "2020-07-14T03:55:55.255Z"
        }
      }
    },
    {
      "cell_type": "markdown",
      "source": [
        "## for loops\n",
        "\n",
        "The syntax for a `for` loop is\n",
        "\n",
        "```julia\n",
        "for *var* in *loop iterable*\n",
        "    *loop body*\n",
        "end\n",
        "```\n",
        "\n",
        "We could use a for loop to generate the same results as either of the examples above:"
      ],
      "metadata": {}
    },
    {
      "cell_type": "code",
      "source": [
        "for n in 1:10\n",
        "    println(n)\n",
        "end"
      ],
      "outputs": [
        {
          "output_type": "stream",
          "name": "stdout",
          "text": [
            "1\n",
            "2\n",
            "3\n",
            "4\n",
            "5\n",
            "6\n",
            "7\n",
            "8\n",
            "9\n",
            "10\n"
          ]
        }
      ],
      "execution_count": 3,
      "metadata": {
        "execution": {
          "iopub.status.busy": "2020-06-23T04:10:04.087Z",
          "iopub.execute_input": "2020-06-23T04:10:04.097Z",
          "iopub.status.idle": "2020-06-23T04:10:04.135Z"
        }
      }
    },
    {
      "cell_type": "code",
      "source": [
        "myfriends = [\"Ted\", \"Robyn\", \"Barney\", \"Lily\", \"Marshall\"]\n",
        "\n",
        "for friend in myfriends\n",
        "    println(\"Hi $friend, it's great to see you!\")\n",
        "end"
      ],
      "outputs": [
        {
          "output_type": "stream",
          "name": "stdout",
          "text": [
            "Hi Ted, it's great to see you!\n",
            "Hi Robyn, it's great to see you!\n",
            "Hi Barney, it's great to see you!\n",
            "Hi Lily, it's great to see you!\n",
            "Hi Marshall, it's great to see you!\n"
          ]
        }
      ],
      "execution_count": 4,
      "metadata": {
        "execution": {
          "iopub.status.busy": "2020-06-23T04:10:08.825Z",
          "iopub.execute_input": "2020-06-23T04:10:08.834Z",
          "iopub.status.idle": "2020-06-23T04:10:08.849Z"
        }
      }
    },
    {
      "cell_type": "markdown",
      "source": [
        "Now let's use `for` loops to create some addition tables, where the value of every entry is the sum of its row and column indices. <br>\n",
        "\n",
        "First, we initialize an array with zeros."
      ],
      "metadata": {}
    },
    {
      "cell_type": "code",
      "source": [
        "m, n = 5, 5\n",
        "A = fill(0, (m, n))"
      ],
      "outputs": [
        {
          "output_type": "execute_result",
          "execution_count": 5,
          "data": {
            "text/plain": "5×5 Array{Int64,2}:\n 0  0  0  0  0\n 0  0  0  0  0\n 0  0  0  0  0\n 0  0  0  0  0\n 0  0  0  0  0"
          },
          "metadata": {}
        }
      ],
      "execution_count": 5,
      "metadata": {
        "execution": {
          "iopub.status.busy": "2020-06-23T04:10:13.330Z",
          "iopub.execute_input": "2020-06-23T04:10:13.337Z",
          "iopub.status.idle": "2020-06-23T04:10:14.519Z"
        }
      }
    },
    {
      "cell_type": "code",
      "source": [
        "for i in 1:m\n",
        "    for j in 1:n\n",
        "        A[i, j] = i + j\n",
        "    end\n",
        "end\n",
        "A"
      ],
      "outputs": [
        {
          "output_type": "execute_result",
          "execution_count": 6,
          "data": {
            "text/plain": "5×5 Array{Int64,2}:\n 2  3  4  5   6\n 3  4  5  6   7\n 4  5  6  7   8\n 5  6  7  8   9\n 6  7  8  9  10"
          },
          "metadata": {}
        }
      ],
      "execution_count": 6,
      "metadata": {
        "execution": {
          "iopub.status.busy": "2020-06-23T04:10:20.063Z",
          "iopub.execute_input": "2020-06-23T04:10:20.070Z",
          "iopub.status.idle": "2020-06-23T04:10:20.126Z"
        }
      }
    },
    {
      "cell_type": "markdown",
      "source": [
        "Here's some syntactic sugar for the same nested `for` loop"
      ],
      "metadata": {}
    },
    {
      "cell_type": "code",
      "source": [
        "B = fill(0, (m, n))"
      ],
      "outputs": [
        {
          "output_type": "execute_result",
          "execution_count": 7,
          "data": {
            "text/plain": "5×5 Array{Int64,2}:\n 0  0  0  0  0\n 0  0  0  0  0\n 0  0  0  0  0\n 0  0  0  0  0\n 0  0  0  0  0"
          },
          "metadata": {}
        }
      ],
      "execution_count": 7,
      "metadata": {
        "execution": {
          "iopub.status.busy": "2020-06-23T04:10:40.443Z",
          "iopub.execute_input": "2020-06-23T04:10:40.448Z",
          "iopub.status.idle": "2020-06-23T04:10:40.464Z"
        }
      }
    },
    {
      "cell_type": "code",
      "source": [
        "for i in 1:m, j in 1:n\n",
        "    B[i, j] = i + j\n",
        "end\n",
        "B"
      ],
      "outputs": [
        {
          "output_type": "execute_result",
          "execution_count": 8,
          "data": {
            "text/plain": "5×5 Array{Int64,2}:\n 2  3  4  5   6\n 3  4  5  6   7\n 4  5  6  7   8\n 5  6  7  8   9\n 6  7  8  9  10"
          },
          "metadata": {}
        }
      ],
      "execution_count": 8,
      "metadata": {
        "execution": {
          "iopub.status.busy": "2020-06-23T04:10:54.272Z",
          "iopub.execute_input": "2020-06-23T04:10:54.281Z",
          "iopub.status.idle": "2020-06-23T04:10:54.309Z"
        }
      }
    },
    {
      "cell_type": "markdown",
      "source": [
        "The more \"Julia\" way to create this addition table would have been with an *array comprehension*."
      ],
      "metadata": {}
    },
    {
      "cell_type": "code",
      "source": [
        "C = [i + j for i in 1:m, j in 1:n]"
      ],
      "outputs": [
        {
          "output_type": "execute_result",
          "execution_count": 9,
          "data": {
            "text/plain": "5×5 Array{Int64,2}:\n 2  3  4  5   6\n 3  4  5  6   7\n 4  5  6  7   8\n 5  6  7  8   9\n 6  7  8  9  10"
          },
          "metadata": {}
        }
      ],
      "execution_count": 9,
      "metadata": {
        "execution": {
          "iopub.status.busy": "2020-06-23T04:11:25.561Z",
          "iopub.execute_input": "2020-06-23T04:11:25.573Z",
          "iopub.status.idle": "2020-06-23T04:11:25.654Z"
        }
      }
    },
    {
      "cell_type": "markdown",
      "source": [
        "### Exercises\n",
        "\n",
        "#### 4.1\n",
        "Loop over integers between 1 and 100 and print their squares."
      ],
      "metadata": {}
    },
    {
      "cell_type": "code",
      "source": [
        "## Code here"
      ],
      "outputs": [],
      "execution_count": 3,
      "metadata": {
        "collapsed": true,
        "jupyter": {
          "source_hidden": false,
          "outputs_hidden": false
        },
        "nteract": {
          "transient": {
            "deleting": false
          }
        },
        "execution": {
          "iopub.status.busy": "2020-07-14T03:56:49.383Z",
          "iopub.execute_input": "2020-07-14T03:56:49.397Z",
          "iopub.status.idle": "2020-07-14T03:56:49.417Z"
        }
      }
    },
    {
      "cell_type": "markdown",
      "source": [
        "#### 4.2\n",
        "Add to the code above a bit to create a dictionary, `squares` that holds integers and their squares as key, value pairs such that\n",
        "\n",
        "```julia\n",
        "squares[10] == 100\n",
        "```"
      ],
      "metadata": {}
    },
    {
      "cell_type": "code",
      "source": [
        "## Add Code Here ##\n",
        "for i in 1:100\n",
        "  squares[i]= i^2\n",
        "end"
      ],
      "outputs": [],
      "execution_count": 17,
      "metadata": {
        "collapsed": true,
        "jupyter": {
          "source_hidden": false,
          "outputs_hidden": false
        },
        "nteract": {
          "transient": {
            "deleting": false
          }
        },
        "execution": {
          "iopub.status.busy": "2020-06-23T04:17:43.022Z",
          "iopub.execute_input": "2020-06-23T04:17:43.028Z",
          "iopub.status.idle": "2020-06-23T04:17:43.045Z"
        }
      }
    },
    {
      "cell_type": "code",
      "source": [
        "@assert squares[10] == 100\n",
        "@assert squares[11] == 121"
      ],
      "outputs": [],
      "execution_count": 18,
      "metadata": {
        "execution": {
          "iopub.status.busy": "2020-06-23T04:17:46.329Z",
          "iopub.execute_input": "2020-06-23T04:17:46.336Z",
          "iopub.status.idle": "2020-06-23T04:17:46.372Z"
        }
      }
    },
    {
      "cell_type": "markdown",
      "source": [
        "#### 4.3\n",
        "Use an array comprehension to create an an array `squares_arr` that stores the squares for all integers between 1 and 100."
      ],
      "metadata": {}
    },
    {
      "cell_type": "code",
      "source": [
        "squares_arr = ## CODE HERE ##"
      ],
      "outputs": [
        {
          "output_type": "error",
          "ename": "LoadError",
          "evalue": "syntax: incomplete: premature end of input",
          "traceback": [
            "syntax: incomplete: premature end of input",
            ""
          ]
        }
      ],
      "execution_count": 4,
      "metadata": {
        "collapsed": true,
        "jupyter": {
          "source_hidden": false,
          "outputs_hidden": false
        },
        "nteract": {
          "transient": {
            "deleting": false
          }
        },
        "execution": {
          "iopub.status.busy": "2020-07-14T03:57:55.680Z",
          "iopub.execute_input": "2020-07-14T03:57:55.700Z",
          "iopub.status.idle": "2020-07-14T03:57:56.049Z"
        }
      }
    },
    {
      "cell_type": "code",
      "source": [
        "@assert length(squares_arr) == 100\n",
        "@assert sum(squares_arr) == 338350"
      ],
      "outputs": [],
      "execution_count": 20,
      "metadata": {
        "execution": {
          "iopub.status.busy": "2020-06-23T04:18:18.540Z",
          "iopub.execute_input": "2020-06-23T04:18:18.546Z",
          "iopub.status.idle": "2020-06-23T04:18:18.555Z"
        }
      }
    }
  ],
  "metadata": {
    "language_info": {
      "file_extension": ".jl",
      "name": "julia",
      "mimetype": "application/julia",
      "version": "1.4.2"
    },
    "kernelspec": {
      "name": "julia-1.0",
      "display_name": "Julia 1.0.3",
      "language": "julia"
    },
    "nteract": {
      "version": "0.24.0"
    }
  },
  "nbformat": 4,
  "nbformat_minor": 3
}