{
  "cells": [
    {
      "cell_type": "markdown",
      "source": [
        "# Data structures\n",
        "\n",
        "Once we start working with many pieces of data at once, it will be convenient for us to store data in structures like arrays or dictionaries (rather than just relying on variables).<br>\n",
        "\n",
        "Types of data structures covered:\n",
        "1. Tuples\n",
        "2. Dictionaries\n",
        "3. Arrays\n",
        "\n",
        "<br>\n",
        "As an overview, tuples and arrays are both ordered sequences of elements (so we can index into them). Dictionaries and arrays are both mutable.\n",
        "We'll explain this more below!"
      ],
      "metadata": {}
    },
    {
      "cell_type": "markdown",
      "source": [
        "## Tuples\n",
        "\n",
        "We can create a tuple by enclosing an ordered collection of elements in `( )`.\n",
        "\n",
        "Syntax: <br>\n",
        "```julia\n",
        "(item1, item2, ...)```"
      ],
      "metadata": {}
    },
    {
      "cell_type": "code",
      "source": [
        "myfavoriteanimals = (\"penguins\", \"cats\", \"sugargliders\")"
      ],
      "outputs": [
        {
          "output_type": "execute_result",
          "execution_count": 1,
          "data": {
            "text/plain": "(\"penguins\", \"cats\", \"sugargliders\")"
          },
          "metadata": {}
        }
      ],
      "execution_count": 1,
      "metadata": {
        "execution": {
          "iopub.execute_input": "2020-07-14T03:54:35.897Z",
          "iopub.status.busy": "2020-07-14T03:54:34.205Z",
          "iopub.status.idle": "2020-07-14T03:54:37.513Z"
        }
      }
    },
    {
      "cell_type": "markdown",
      "source": [
        "We can index into this tuple,"
      ],
      "metadata": {}
    },
    {
      "cell_type": "code",
      "source": [
        "myfavoriteanimals[1]"
      ],
      "outputs": [
        {
          "output_type": "execute_result",
          "execution_count": 9,
          "data": {
            "text/plain": "\"penguins\""
          },
          "metadata": {}
        }
      ],
      "execution_count": 9,
      "metadata": {
        "execution": {
          "iopub.execute_input": "2020-06-23T03:54:26.262Z",
          "iopub.status.busy": "2020-06-23T03:54:26.244Z",
          "iopub.status.idle": "2020-06-23T03:54:26.294Z"
        }
      }
    },
    {
      "cell_type": "markdown",
      "source": [
        "but since tuples are immutable, we can't update it"
      ],
      "metadata": {}
    },
    {
      "cell_type": "code",
      "source": [
        "myfavoriteanimals[1] = \"otters\""
      ],
      "outputs": [
        {
          "output_type": "error",
          "ename": "MethodError",
          "evalue": "MethodError: no method matching setindex!(::Tuple{String,String,String}, ::String, ::Int64)",
          "traceback": [
            "MethodError: no method matching setindex!(::Tuple{String,String,String}, ::String, ::Int64)",
            "",
            "Stacktrace:",
            " [1] top-level scope at In[10]:1"
          ]
        }
      ],
      "execution_count": 10,
      "metadata": {
        "execution": {
          "iopub.execute_input": "2020-06-23T03:54:47.213Z",
          "iopub.status.busy": "2020-06-23T03:54:47.195Z",
          "iopub.status.idle": "2020-06-23T03:54:47.288Z"
        }
      }
    },
    {
      "cell_type": "markdown",
      "source": [
        "## Now in 1.0: NamedTuples\n",
        "\n",
        "As you might guess, `NamedTuple`s are just like `Tuple`s except that each element additionally has a name! They have a special syntax using `=` inside a tuple:\n",
        "\n",
        "```julia\n",
        "(name1 = item1, name2 = item2, ...)\n",
        "```"
      ],
      "metadata": {}
    },
    {
      "cell_type": "code",
      "source": [
        "myfavoriteanimals = (bird = \"penguins\", mammal = \"cats\", marsupial = \"sugargliders\")"
      ],
      "outputs": [],
      "execution_count": null,
      "metadata": {}
    },
    {
      "cell_type": "markdown",
      "source": [
        "Like regular `Tuples`, `NamedTuples` are ordered, so we can retrieve their elements via indexing:"
      ],
      "metadata": {}
    },
    {
      "cell_type": "code",
      "source": [
        "myfavoriteanimals[1]"
      ],
      "outputs": [],
      "execution_count": null,
      "metadata": {}
    },
    {
      "cell_type": "markdown",
      "source": [
        "They also add the special ability to access values by their name:"
      ],
      "metadata": {}
    },
    {
      "cell_type": "code",
      "source": [
        "myfavoriteanimals.bird"
      ],
      "outputs": [],
      "execution_count": null,
      "metadata": {}
    },
    {
      "cell_type": "markdown",
      "source": [
        "## Dictionaries\n",
        "\n",
        "If we have sets of data related to one another, we may choose to store that data in a dictionary. We can create a dictionary using the `Dict()` function, which we can initialize as an empty dictionary or one storing key, value pairs.\n",
        "\n",
        "Syntax:\n",
        "```julia\n",
        "Dict(key1 => value1, key2 => value2, ...)```\n",
        "\n",
        "A good example is a contacts list, where we associate names with phone numbers."
      ],
      "metadata": {}
    },
    {
      "cell_type": "code",
      "source": [
        "myphonebook = Dict(\"Jenny\" => \"867-5309\", \"Ghostbusters\" => \"555-2368\")"
      ],
      "outputs": [
        {
          "output_type": "execute_result",
          "execution_count": 1,
          "data": {
            "text/plain": "Dict{String,String} with 2 entries:\n  \"Jenny\"        => \"867-5309\"\n  \"Ghostbusters\" => \"555-2368\""
          },
          "metadata": {}
        }
      ],
      "execution_count": 1,
      "metadata": {
        "execution": {
          "iopub.execute_input": "2020-06-23T03:52:18.909Z",
          "iopub.status.busy": "2020-06-23T03:52:17.143Z",
          "iopub.status.idle": "2020-06-23T03:52:21.031Z"
        }
      }
    },
    {
      "cell_type": "markdown",
      "source": [
        "In this example, each name and number is a \"key\" and \"value\" pair. We can grab Jenny's number (a value) using the associated key"
      ],
      "metadata": {}
    },
    {
      "cell_type": "code",
      "source": [
        "myphonebook[\"Jenny\"]"
      ],
      "outputs": [
        {
          "output_type": "execute_result",
          "execution_count": 2,
          "data": {
            "text/plain": "\"867-5309\""
          },
          "metadata": {}
        }
      ],
      "execution_count": 2,
      "metadata": {
        "execution": {
          "iopub.execute_input": "2020-06-23T03:52:38.222Z",
          "iopub.status.busy": "2020-06-23T03:52:38.193Z",
          "iopub.status.idle": "2020-06-23T03:52:38.532Z"
        }
      }
    },
    {
      "cell_type": "markdown",
      "source": [
        "We can add another entry to this dictionary as follows"
      ],
      "metadata": {}
    },
    {
      "cell_type": "code",
      "source": [
        "myphonebook[\"Kramer\"] = \"555-FILK\""
      ],
      "outputs": [
        {
          "output_type": "execute_result",
          "execution_count": 3,
          "data": {
            "text/plain": "\"555-FILK\""
          },
          "metadata": {}
        }
      ],
      "execution_count": 3,
      "metadata": {
        "execution": {
          "iopub.execute_input": "2020-06-23T03:52:45.284Z",
          "iopub.status.busy": "2020-06-23T03:52:45.267Z",
          "iopub.status.idle": "2020-06-23T03:52:45.324Z"
        }
      }
    },
    {
      "cell_type": "markdown",
      "source": [
        "Let's check what our phonebook looks like now..."
      ],
      "metadata": {}
    },
    {
      "cell_type": "code",
      "source": [
        "myphonebook"
      ],
      "outputs": [
        {
          "output_type": "execute_result",
          "execution_count": 4,
          "data": {
            "text/plain": "Dict{String,String} with 3 entries:\n  \"Jenny\"        => \"867-5309\"\n  \"Kramer\"       => \"555-FILK\"\n  \"Ghostbusters\" => \"555-2368\""
          },
          "metadata": {}
        }
      ],
      "execution_count": 4,
      "metadata": {
        "execution": {
          "iopub.execute_input": "2020-06-23T03:52:51.783Z",
          "iopub.status.busy": "2020-06-23T03:52:51.761Z",
          "iopub.status.idle": "2020-06-23T03:52:51.818Z"
        }
      }
    },
    {
      "cell_type": "markdown",
      "source": [
        "We can delete Kramer from our contact list - and simultaneously grab his number - by using `pop!`"
      ],
      "metadata": {}
    },
    {
      "cell_type": "code",
      "source": [
        "pop!(myphonebook, \"Kramer\")"
      ],
      "outputs": [
        {
          "output_type": "execute_result",
          "execution_count": 5,
          "data": {
            "text/plain": "\"555-FILK\""
          },
          "metadata": {}
        }
      ],
      "execution_count": 5,
      "metadata": {
        "execution": {
          "iopub.execute_input": "2020-06-23T03:53:29.526Z",
          "iopub.status.busy": "2020-06-23T03:53:29.503Z",
          "iopub.status.idle": "2020-06-23T03:53:29.560Z"
        }
      }
    },
    {
      "cell_type": "code",
      "source": [
        "myphonebook"
      ],
      "outputs": [
        {
          "output_type": "execute_result",
          "execution_count": 6,
          "data": {
            "text/plain": "Dict{String,String} with 2 entries:\n  \"Jenny\"        => \"867-5309\"\n  \"Ghostbusters\" => \"555-2368\""
          },
          "metadata": {}
        }
      ],
      "execution_count": 6,
      "metadata": {
        "execution": {
          "iopub.execute_input": "2020-06-23T03:53:35.340Z",
          "iopub.status.busy": "2020-06-23T03:53:35.325Z",
          "iopub.status.idle": "2020-06-23T03:53:35.372Z"
        }
      }
    },
    {
      "cell_type": "markdown",
      "source": [
        "Unlike tuples and arrays, dictionaries are not ordered. So, we can't index into them."
      ],
      "metadata": {}
    },
    {
      "cell_type": "code",
      "source": [
        "myphonebook[1]"
      ],
      "outputs": [
        {
          "output_type": "error",
          "ename": "KeyError",
          "evalue": "KeyError: key 1 not found",
          "traceback": [
            "KeyError: key 1 not found",
            "",
            "Stacktrace:",
            " [1] getindex(::Dict{String,String}, ::Int64) at .\\dict.jl:477",
            " [2] top-level scope at In[7]:1"
          ]
        }
      ],
      "execution_count": 7,
      "metadata": {
        "execution": {
          "iopub.execute_input": "2020-06-23T03:53:52.625Z",
          "iopub.status.busy": "2020-06-23T03:53:52.606Z",
          "iopub.status.idle": "2020-06-23T03:53:53.025Z"
        }
      }
    },
    {
      "cell_type": "markdown",
      "source": [
        "In the example above, `julia` thinks you're trying to access a value associated with the key `1`."
      ],
      "metadata": {}
    },
    {
      "cell_type": "markdown",
      "source": [
        "## Arrays\n",
        "\n",
        "Unlike tuples, arrays are mutable. Unlike dictionaries, arrays contain ordered collections. <br>\n",
        "We can create an array by enclosing this collection in `[ ]`.\n",
        "\n",
        "Syntax: <br>\n",
        "```julia\n",
        "[item1, item2, ...]```\n",
        "\n",
        "\n",
        "For example, we might create an array to keep track of my friends"
      ],
      "metadata": {}
    },
    {
      "cell_type": "code",
      "source": [
        "myfriends = [\"Ted\", \"Robyn\", \"Barney\", \"Lily\", \"Marshall\"]"
      ],
      "outputs": [
        {
          "output_type": "execute_result",
          "execution_count": 11,
          "data": {
            "text/plain": "5-element Array{String,1}:\n \"Ted\"\n \"Robyn\"\n \"Barney\"\n \"Lily\"\n \"Marshall\""
          },
          "metadata": {}
        }
      ],
      "execution_count": 11,
      "metadata": {
        "execution": {
          "iopub.execute_input": "2020-06-23T03:55:28.334Z",
          "iopub.status.busy": "2020-06-23T03:55:28.317Z",
          "iopub.status.idle": "2020-06-23T03:55:29.112Z"
        }
      }
    },
    {
      "cell_type": "markdown",
      "source": [
        "The `1` in `Array{String,1}` means this is a one dimensional vector.  An `Array{String,2}` would be a 2d matrix, etc.  The `String` is the type of each element."
      ],
      "metadata": {}
    },
    {
      "cell_type": "markdown",
      "source": [
        "or to store a sequence of numbers"
      ],
      "metadata": {}
    },
    {
      "cell_type": "code",
      "source": [
        "fibonacci = [1, 1, 2, 3, 5, 8, 13]"
      ],
      "outputs": [
        {
          "output_type": "execute_result",
          "execution_count": 12,
          "data": {
            "text/plain": "7-element Array{Int64,1}:\n  1\n  1\n  2\n  3\n  5\n  8\n 13"
          },
          "metadata": {}
        }
      ],
      "execution_count": 12,
      "metadata": {
        "execution": {
          "iopub.execute_input": "2020-06-23T03:55:40.301Z",
          "iopub.status.busy": "2020-06-23T03:55:40.282Z",
          "iopub.status.idle": "2020-06-23T03:55:41.109Z"
        }
      }
    },
    {
      "cell_type": "code",
      "source": [
        "mixture = [1, 1, 2, 3, \"Ted\", \"Robyn\"]"
      ],
      "outputs": [
        {
          "output_type": "execute_result",
          "execution_count": 13,
          "data": {
            "text/plain": "6-element Array{Any,1}:\n 1\n 1\n 2\n 3\n  \"Ted\"\n  \"Robyn\""
          },
          "metadata": {}
        }
      ],
      "execution_count": 13,
      "metadata": {
        "execution": {
          "iopub.execute_input": "2020-06-23T03:55:55.233Z",
          "iopub.status.busy": "2020-06-23T03:55:55.210Z",
          "iopub.status.idle": "2020-06-23T03:55:56.729Z"
        }
      }
    },
    {
      "cell_type": "markdown",
      "source": [
        "Once we have an array, we can grab individual pieces of data from inside that array by indexing into the array. For example, if we want the third friend listed in `myfriends`, we write"
      ],
      "metadata": {}
    },
    {
      "cell_type": "code",
      "source": [
        "myfriends[3]"
      ],
      "outputs": [
        {
          "output_type": "execute_result",
          "execution_count": 14,
          "data": {
            "text/plain": "\"Barney\""
          },
          "metadata": {}
        }
      ],
      "execution_count": 14,
      "metadata": {
        "execution": {
          "iopub.execute_input": "2020-06-23T03:56:12.171Z",
          "iopub.status.busy": "2020-06-23T03:56:12.150Z",
          "iopub.status.idle": "2020-06-23T03:56:12.207Z"
        }
      }
    },
    {
      "cell_type": "markdown",
      "source": [
        "We can use indexing to edit an existing element of an array"
      ],
      "metadata": {}
    },
    {
      "cell_type": "code",
      "source": [
        "myfriends[3] = \"Baby Bop\""
      ],
      "outputs": [
        {
          "output_type": "execute_result",
          "execution_count": 15,
          "data": {
            "text/plain": "\"Baby Bop\""
          },
          "metadata": {}
        }
      ],
      "execution_count": 15,
      "metadata": {
        "execution": {
          "iopub.execute_input": "2020-06-23T03:56:32.526Z",
          "iopub.status.busy": "2020-06-23T03:56:32.509Z",
          "iopub.status.idle": "2020-06-23T03:56:32.570Z"
        }
      }
    },
    {
      "cell_type": "markdown",
      "source": [
        "Yes, Julia is 1-based indexing, not 0-based like Python.  Wars are faught over lesser issues. I have a friend with the wisdom of Solomon who proposes settling this once and for all with ½ 😃"
      ],
      "metadata": {}
    },
    {
      "cell_type": "markdown",
      "source": [
        "We can also edit the array by using the `push!` and `pop!` functions. `push!` adds an element to the end of an array and `pop!` removes the last element of an array.\n",
        "\n",
        "We can add another number to our fibonnaci sequence"
      ],
      "metadata": {}
    },
    {
      "cell_type": "code",
      "source": [
        "push!(fibonacci, 21)"
      ],
      "outputs": [
        {
          "output_type": "execute_result",
          "execution_count": 16,
          "data": {
            "text/plain": "8-element Array{Int64,1}:\n  1\n  1\n  2\n  3\n  5\n  8\n 13\n 21"
          },
          "metadata": {}
        }
      ],
      "execution_count": 16,
      "metadata": {
        "execution": {
          "iopub.execute_input": "2020-06-23T03:56:55.661Z",
          "iopub.status.busy": "2020-06-23T03:56:55.644Z",
          "iopub.status.idle": "2020-06-23T03:56:55.699Z"
        }
      }
    },
    {
      "cell_type": "markdown",
      "source": [
        "and then remove it"
      ],
      "metadata": {}
    },
    {
      "cell_type": "code",
      "source": [
        "pop!(fibonacci)"
      ],
      "outputs": [
        {
          "output_type": "execute_result",
          "execution_count": 17,
          "data": {
            "text/plain": "21"
          },
          "metadata": {}
        }
      ],
      "execution_count": 17,
      "metadata": {
        "execution": {
          "iopub.execute_input": "2020-06-23T03:56:57.840Z",
          "iopub.status.busy": "2020-06-23T03:56:57.818Z",
          "iopub.status.idle": "2020-06-23T03:56:58.064Z"
        }
      }
    },
    {
      "cell_type": "code",
      "source": [
        "fibonacci"
      ],
      "outputs": [
        {
          "output_type": "execute_result",
          "execution_count": 18,
          "data": {
            "text/plain": "7-element Array{Int64,1}:\n  1\n  1\n  2\n  3\n  5\n  8\n 13"
          },
          "metadata": {}
        }
      ],
      "execution_count": 18,
      "metadata": {
        "execution": {
          "iopub.execute_input": "2020-06-23T03:57:05.290Z",
          "iopub.status.busy": "2020-06-23T03:57:05.273Z",
          "iopub.status.idle": "2020-06-23T03:57:05.332Z"
        }
      }
    },
    {
      "cell_type": "markdown",
      "source": [
        "So far I've given examples of only 1D arrays of scalars, but arrays can have an arbitrary number of dimensions and can also store other arrays.\n",
        "<br><br>\n",
        "For example, the following are arrays of arrays:"
      ],
      "metadata": {}
    },
    {
      "cell_type": "code",
      "source": [
        "favorites = [[\"koobideh\", \"chocolate\", \"eggs\"],[\"penguins\", \"cats\", \"sugargliders\"]]"
      ],
      "outputs": [
        {
          "output_type": "execute_result",
          "execution_count": 19,
          "data": {
            "text/plain": "2-element Array{Array{String,1},1}:\n [\"koobideh\", \"chocolate\", \"eggs\"]\n [\"penguins\", \"cats\", \"sugargliders\"]"
          },
          "metadata": {}
        }
      ],
      "execution_count": 19,
      "metadata": {
        "execution": {
          "iopub.execute_input": "2020-06-23T03:57:53.555Z",
          "iopub.status.busy": "2020-06-23T03:57:53.535Z",
          "iopub.status.idle": "2020-06-23T03:57:54.591Z"
        }
      }
    },
    {
      "cell_type": "code",
      "source": [
        "numbers = [[1, 2, 3], [4, 5], [6, 7, 8, 9]]"
      ],
      "outputs": [
        {
          "output_type": "execute_result",
          "execution_count": 20,
          "data": {
            "text/plain": "3-element Array{Array{Int64,1},1}:\n [1, 2, 3]\n [4, 5]\n [6, 7, 8, 9]"
          },
          "metadata": {}
        }
      ],
      "execution_count": 20,
      "metadata": {
        "execution": {
          "iopub.execute_input": "2020-06-23T03:57:57.296Z",
          "iopub.status.busy": "2020-06-23T03:57:57.279Z",
          "iopub.status.idle": "2020-06-23T03:57:58.280Z"
        }
      }
    },
    {
      "cell_type": "markdown",
      "source": [
        "Below are examples of 2D and 3D arrays populated with random values."
      ],
      "metadata": {}
    },
    {
      "cell_type": "code",
      "source": [
        "rand(4, 3)"
      ],
      "outputs": [
        {
          "output_type": "execute_result",
          "execution_count": 21,
          "data": {
            "text/plain": "4×3 Array{Float64,2}:\n 0.689148   0.617617   0.991503\n 0.867637   0.912078   0.430103\n 0.156068   0.0802696  0.732754\n 0.0923371  0.784014   0.688924"
          },
          "metadata": {}
        }
      ],
      "execution_count": 21,
      "metadata": {
        "execution": {
          "iopub.execute_input": "2020-06-23T03:58:15.585Z",
          "iopub.status.busy": "2020-06-23T03:58:15.563Z",
          "iopub.status.idle": "2020-06-23T03:58:16.648Z"
        }
      }
    },
    {
      "cell_type": "code",
      "source": [
        "rand(4, 3, 2)"
      ],
      "outputs": [
        {
          "output_type": "execute_result",
          "execution_count": 22,
          "data": {
            "text/plain": "4×3×2 Array{Float64,3}:\n[:, :, 1] =\n 0.922505   0.22645    0.651297\n 0.488282   0.345696   0.519312\n 0.903972   0.131362   0.346508\n 0.0689912  0.0758148  0.391353\n\n[:, :, 2] =\n 0.392975  0.14973   0.417999\n 0.43238   0.438699  0.501153\n 0.795702  0.998135  0.876675\n 0.791324  0.624019  0.0290969"
          },
          "metadata": {}
        }
      ],
      "execution_count": 22,
      "metadata": {
        "execution": {
          "iopub.execute_input": "2020-06-23T03:58:18.747Z",
          "iopub.status.busy": "2020-06-23T03:58:18.728Z",
          "iopub.status.idle": "2020-06-23T03:58:19.910Z"
        }
      }
    },
    {
      "cell_type": "markdown",
      "source": [
        "Be careful when you want to copy arrays!"
      ],
      "metadata": {}
    },
    {
      "cell_type": "code",
      "source": [
        "fibonacci"
      ],
      "outputs": [
        {
          "output_type": "execute_result",
          "execution_count": 23,
          "data": {
            "text/plain": "7-element Array{Int64,1}:\n  1\n  1\n  2\n  3\n  5\n  8\n 13"
          },
          "metadata": {}
        }
      ],
      "execution_count": 23,
      "metadata": {
        "execution": {
          "iopub.execute_input": "2020-06-23T04:00:08.182Z",
          "iopub.status.busy": "2020-06-23T04:00:08.162Z",
          "iopub.status.idle": "2020-06-23T04:00:08.216Z"
        }
      }
    },
    {
      "cell_type": "code",
      "source": [
        "somenumbers = fibonacci"
      ],
      "outputs": [
        {
          "output_type": "execute_result",
          "execution_count": 24,
          "data": {
            "text/plain": "7-element Array{Int64,1}:\n  1\n  1\n  2\n  3\n  5\n  8\n 13"
          },
          "metadata": {}
        }
      ],
      "execution_count": 24,
      "metadata": {
        "execution": {
          "iopub.execute_input": "2020-06-23T04:00:10.185Z",
          "iopub.status.busy": "2020-06-23T04:00:10.163Z",
          "iopub.status.idle": "2020-06-23T04:00:10.225Z"
        }
      }
    },
    {
      "cell_type": "code",
      "source": [
        "somenumbers[1] = 404"
      ],
      "outputs": [
        {
          "output_type": "execute_result",
          "execution_count": 25,
          "data": {
            "text/plain": "404"
          },
          "metadata": {}
        }
      ],
      "execution_count": 25,
      "metadata": {
        "execution": {
          "iopub.execute_input": "2020-06-23T04:00:14.693Z",
          "iopub.status.busy": "2020-06-23T04:00:14.674Z",
          "iopub.status.idle": "2020-06-23T04:00:14.740Z"
        }
      }
    },
    {
      "cell_type": "code",
      "source": [
        "fibonacci"
      ],
      "outputs": [
        {
          "output_type": "execute_result",
          "execution_count": 26,
          "data": {
            "text/plain": "7-element Array{Int64,1}:\n 404\n   1\n   2\n   3\n   5\n   8\n  13"
          },
          "metadata": {}
        }
      ],
      "execution_count": 26,
      "metadata": {
        "execution": {
          "iopub.execute_input": "2020-06-23T04:00:16.217Z",
          "iopub.status.busy": "2020-06-23T04:00:16.185Z",
          "iopub.status.idle": "2020-06-23T04:00:16.283Z"
        }
      }
    },
    {
      "cell_type": "markdown",
      "source": [
        "Editing `somenumbers` caused `fibonacci` to get updated as well!\n",
        "\n",
        "In the above example, we didn't actually make a copy of `fibonacci`. We just created a new way to access the entries in the array bound to `fibonacci`.\n",
        "\n",
        "If we'd like to make a copy of the array bound to `fibonacci`, we can use the `copy` function."
      ],
      "metadata": {}
    },
    {
      "cell_type": "code",
      "source": [
        "# First, restore fibonacci\n",
        "fibonacci[1] = 1\n",
        "fibonacci"
      ],
      "outputs": [
        {
          "output_type": "execute_result",
          "execution_count": 27,
          "data": {
            "text/plain": "7-element Array{Int64,1}:\n  1\n  1\n  2\n  3\n  5\n  8\n 13"
          },
          "metadata": {}
        }
      ],
      "execution_count": 27,
      "metadata": {
        "execution": {
          "iopub.execute_input": "2020-06-23T04:00:34.579Z",
          "iopub.status.busy": "2020-06-23T04:00:34.555Z",
          "iopub.status.idle": "2020-06-23T04:00:34.615Z"
        }
      }
    },
    {
      "cell_type": "code",
      "source": [
        "somenumbers"
      ],
      "outputs": [
        {
          "output_type": "execute_result",
          "execution_count": 28,
          "data": {
            "text/plain": "7-element Array{Int64,1}:\n  1\n  1\n  2\n  3\n  5\n  8\n 13"
          },
          "metadata": {}
        }
      ],
      "execution_count": 28,
      "metadata": {
        "collapsed": true,
        "execution": {
          "iopub.execute_input": "2020-06-23T04:00:45.678Z",
          "iopub.status.busy": "2020-06-23T04:00:45.662Z",
          "iopub.status.idle": "2020-06-23T04:00:45.712Z"
        },
        "jupyter": {
          "outputs_hidden": false,
          "source_hidden": false
        },
        "nteract": {
          "transient": {
            "deleting": false
          }
        }
      }
    },
    {
      "cell_type": "code",
      "source": [
        "somemorenumbers = copy(fibonacci)"
      ],
      "outputs": [
        {
          "output_type": "execute_result",
          "execution_count": 29,
          "data": {
            "text/plain": "7-element Array{Int64,1}:\n  1\n  1\n  2\n  3\n  5\n  8\n 13"
          },
          "metadata": {}
        }
      ],
      "execution_count": 29,
      "metadata": {
        "execution": {
          "iopub.execute_input": "2020-06-23T04:00:52.054Z",
          "iopub.status.busy": "2020-06-23T04:00:52.037Z",
          "iopub.status.idle": "2020-06-23T04:00:52.084Z"
        }
      }
    },
    {
      "cell_type": "code",
      "source": [
        "somemorenumbers[1] = 404"
      ],
      "outputs": [
        {
          "output_type": "execute_result",
          "execution_count": 30,
          "data": {
            "text/plain": "404"
          },
          "metadata": {}
        }
      ],
      "execution_count": 30,
      "metadata": {
        "execution": {
          "iopub.execute_input": "2020-06-23T04:00:55.919Z",
          "iopub.status.busy": "2020-06-23T04:00:55.906Z",
          "iopub.status.idle": "2020-06-23T04:00:55.947Z"
        }
      }
    },
    {
      "cell_type": "code",
      "source": [
        "fibonacci"
      ],
      "outputs": [
        {
          "output_type": "execute_result",
          "execution_count": 31,
          "data": {
            "text/plain": "7-element Array{Int64,1}:\n  1\n  1\n  2\n  3\n  5\n  8\n 13"
          },
          "metadata": {}
        }
      ],
      "execution_count": 31,
      "metadata": {
        "execution": {
          "iopub.execute_input": "2020-06-23T04:00:57.430Z",
          "iopub.status.busy": "2020-06-23T04:00:57.416Z",
          "iopub.status.idle": "2020-06-23T04:00:57.461Z"
        }
      }
    },
    {
      "cell_type": "markdown",
      "source": [
        "In this last example, fibonacci was not updated. Therefore we see that the arrays bound to `somemorenumbers` and `fibonacci` are distinct."
      ],
      "metadata": {}
    },
    {
      "cell_type": "markdown",
      "source": [
        "### Exercises\n",
        "\n",
        "#### 3.1\n",
        "Create an array, `a_ray`, with the following code:\n",
        "\n",
        "```julia\n",
        "a_ray = [1, 2, 3]\n",
        "```\n",
        "\n",
        "Add the number `4` to the end of this array and then remove it."
      ],
      "metadata": {}
    },
    {
      "cell_type": "code",
      "source": [
        "a_ray = [1,2,3]\n",
        "\n",
        "push!(a_ray,4)\n",
        "\n",
        "pop!(a_ray)"
      ],
      "outputs": [
        {
          "output_type": "execute_result",
          "execution_count": 33,
          "data": {
            "text/plain": "4"
          },
          "metadata": {}
        }
      ],
      "execution_count": 33,
      "metadata": {
        "collapsed": true,
        "execution": {
          "iopub.execute_input": "2020-06-23T04:02:17.350Z",
          "iopub.status.busy": "2020-06-23T04:02:17.331Z",
          "iopub.status.idle": "2020-06-23T04:02:17.376Z"
        },
        "jupyter": {
          "outputs_hidden": false,
          "source_hidden": false
        },
        "nteract": {
          "transient": {
            "deleting": false
          }
        }
      }
    },
    {
      "cell_type": "code",
      "source": [
        "@assert a_ray == [1, 2, 3]"
      ],
      "outputs": [],
      "execution_count": 34,
      "metadata": {
        "execution": {
          "iopub.execute_input": "2020-06-23T04:02:20.057Z",
          "iopub.status.busy": "2020-06-23T04:02:20.040Z",
          "iopub.status.idle": "2020-06-23T04:02:20.077Z"
        }
      }
    },
    {
      "cell_type": "markdown",
      "source": [
        "#### 3.2\n",
        "Try to add \"Emergency\" as key to `myphonebook` with the value `string(911)` with the following code\n",
        "```julia\n",
        "myphonebook[\"Emergency\"] = 100\n",
        "```\n",
        "\n",
        "Why doesn't this work?"
      ],
      "metadata": {}
    },
    {
      "cell_type": "code",
      "source": [
        "myphonebook[\"Emergency\"]=100"
      ],
      "outputs": [
        {
          "output_type": "error",
          "ename": "UndefVarError",
          "evalue": "UndefVarError: myphonebook not defined",
          "traceback": [
            "UndefVarError: myphonebook not defined",
            "",
            "Stacktrace:",
            " [1] top-level scope at In[2]:1"
          ]
        }
      ],
      "execution_count": 2,
      "metadata": {
        "collapsed": true,
        "execution": {
          "iopub.execute_input": "2020-07-14T03:59:44.427Z",
          "iopub.status.busy": "2020-07-14T03:59:44.399Z",
          "iopub.status.idle": "2020-07-14T03:59:44.815Z"
        },
        "jupyter": {
          "outputs_hidden": false,
          "source_hidden": false
        },
        "nteract": {
          "transient": {
            "deleting": false
          }
        }
      }
    },
    {
      "cell_type": "markdown",
      "source": [
        "#### 3.3\n",
        "Create a new dictionary called `flexible_phonebook` that has Jenny's number stored as an integer and Ghostbusters' number stored as a string with the following code\n",
        "\n",
        "```julia\n",
        "flexible_phonebook = Dict(\"Jenny\" => 8675309, \"Ghostbusters\" => \"555-2368\")\n",
        "```"
      ],
      "metadata": {}
    },
    {
      "cell_type": "code",
      "source": [
        "flexible_phonebook = Dict(\"Jenny\" => 8675309, \"Ghostbusters\" => \"555-2368\")"
      ],
      "outputs": [
        {
          "output_type": "execute_result",
          "execution_count": 38,
          "data": {
            "text/plain": "Dict{String,Any} with 2 entries:\n  \"Jenny\"        => 8675309\n  \"Ghostbusters\" => \"555-2368\""
          },
          "metadata": {}
        }
      ],
      "execution_count": 38,
      "metadata": {
        "collapsed": true,
        "execution": {
          "iopub.execute_input": "2020-06-23T04:04:16.138Z",
          "iopub.status.busy": "2020-06-23T04:04:16.119Z",
          "iopub.status.idle": "2020-06-23T04:04:16.555Z"
        },
        "jupyter": {
          "outputs_hidden": false,
          "source_hidden": false
        },
        "nteract": {
          "transient": {
            "deleting": false
          }
        }
      }
    },
    {
      "cell_type": "code",
      "source": [
        "@assert flexible_phonebook == Dict(\"Jenny\" => 8675309, \"Ghostbusters\" => \"555-2368\")"
      ],
      "outputs": [],
      "execution_count": 39,
      "metadata": {
        "execution": {
          "iopub.execute_input": "2020-06-23T04:04:20.348Z",
          "iopub.status.busy": "2020-06-23T04:04:20.327Z",
          "iopub.status.idle": "2020-06-23T04:04:20.372Z"
        }
      }
    },
    {
      "cell_type": "markdown",
      "source": [
        "#### 3.4\n",
        "Add the key \"Emergency\" with the value `911` (an integer) to `flexible_phonebook`."
      ],
      "metadata": {}
    },
    {
      "cell_type": "code",
      "source": [
        "flexible_phonebook[\"Emergency\"]=911"
      ],
      "outputs": [
        {
          "output_type": "execute_result",
          "execution_count": 45,
          "data": {
            "text/plain": "911"
          },
          "metadata": {}
        }
      ],
      "execution_count": 45,
      "metadata": {
        "collapsed": true,
        "execution": {
          "iopub.execute_input": "2020-06-23T04:05:55.199Z",
          "iopub.status.busy": "2020-06-23T04:05:55.181Z",
          "iopub.status.idle": "2020-06-23T04:05:55.229Z"
        },
        "jupyter": {
          "outputs_hidden": false,
          "source_hidden": false
        },
        "nteract": {
          "transient": {
            "deleting": false
          }
        }
      }
    },
    {
      "cell_type": "code",
      "source": [
        "@assert haskey(flexible_phonebook, \"Emergency\")"
      ],
      "outputs": [],
      "execution_count": 42,
      "metadata": {
        "execution": {
          "iopub.execute_input": "2020-06-23T04:05:27.974Z",
          "iopub.status.busy": "2020-06-23T04:05:27.961Z",
          "iopub.status.idle": "2020-06-23T04:05:27.996Z"
        }
      }
    },
    {
      "cell_type": "code",
      "source": [
        "@assert flexible_phonebook[\"Emergency\"] == 911"
      ],
      "outputs": [],
      "execution_count": 46,
      "metadata": {
        "execution": {
          "iopub.execute_input": "2020-06-23T04:06:00.082Z",
          "iopub.status.busy": "2020-06-23T04:06:00.064Z",
          "iopub.status.idle": "2020-06-23T04:06:00.109Z"
        }
      }
    },
    {
      "cell_type": "markdown",
      "source": [
        "#### 3.5\n",
        "Why can we add an integer as a value to `flexible_phonebook` but not `myphonebook`? How could we have initialized `myphonebook` so that it would accept integers as values?"
      ],
      "metadata": {}
    },
    {
      "cell_type": "markdown",
      "source": [],
      "metadata": {
        "nteract": {
          "transient": {
            "deleting": false
          }
        }
      }
    }
  ],
  "metadata": {
    "kernelspec": {
      "display_name": "Julia 1.4.2",
      "language": "julia",
      "name": "julia-1.4"
    },
    "language_info": {
      "file_extension": ".jl",
      "name": "julia",
      "mimetype": "application/julia",
      "version": "1.4.2"
    },
    "nteract": {
      "version": "0.24.0"
    }
  },
  "nbformat": 4,
  "nbformat_minor": 3
}