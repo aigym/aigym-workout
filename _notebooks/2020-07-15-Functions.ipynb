{
  "cells": [
    {
      "cell_type": "markdown",
      "source": [
        "# Functions\n",
        "\n",
        "Topics:\n",
        "1. How to declare a function\n",
        "2. Duck-typing in Julia\n",
        "3. Mutating vs. non-mutating functions\n",
        "4. Some higher order functions"
      ],
      "metadata": {}
    },
    {
      "cell_type": "markdown",
      "source": [
        "## How to declare a function\n",
        "Julia gives us a few different ways to write a function. The first requires the `function` and `end` keywords"
      ],
      "metadata": {}
    },
    {
      "cell_type": "code",
      "source": [
        "function sayhi(name)\n",
        "    println(\"Hi $name, it's great to see you!\")\n",
        "end"
      ],
      "outputs": [
        {
          "output_type": "execute_result",
          "execution_count": 1,
          "data": {
            "text/plain": [
              "sayhi (generic function with 1 method)"
            ]
          },
          "metadata": {}
        }
      ],
      "execution_count": 1,
      "metadata": {
        "execution": {
          "iopub.status.busy": "2020-06-24T04:21:06.344Z",
          "iopub.execute_input": "2020-06-24T04:21:07.783Z",
          "iopub.status.idle": "2020-06-24T04:21:09.541Z"
        }
      }
    },
    {
      "cell_type": "code",
      "source": [
        "function f(x)\n",
        "    x^2\n",
        "end"
      ],
      "outputs": [
        {
          "output_type": "execute_result",
          "execution_count": 2,
          "data": {
            "text/plain": [
              "f (generic function with 1 method)"
            ]
          },
          "metadata": {}
        }
      ],
      "execution_count": 2,
      "metadata": {
        "execution": {
          "iopub.status.busy": "2020-06-24T04:21:44.801Z",
          "iopub.execute_input": "2020-06-24T04:21:44.821Z",
          "iopub.status.idle": "2020-06-24T04:21:44.926Z"
        }
      }
    },
    {
      "cell_type": "markdown",
      "source": [
        "We can call either of these functions like this:"
      ],
      "metadata": {}
    },
    {
      "cell_type": "code",
      "source": [
        "sayhi(\"C-3PO\")"
      ],
      "outputs": [
        {
          "output_type": "stream",
          "name": "stdout",
          "text": [
            "Hi C-3PO, it's great to see you!\n"
          ]
        }
      ],
      "execution_count": 3,
      "metadata": {
        "execution": {
          "iopub.status.busy": "2020-06-24T04:21:46.888Z",
          "iopub.execute_input": "2020-06-24T04:21:46.916Z",
          "iopub.status.idle": "2020-06-24T04:21:47.077Z"
        }
      }
    },
    {
      "cell_type": "code",
      "source": [
        "f(42)"
      ],
      "outputs": [
        {
          "output_type": "execute_result",
          "execution_count": 4,
          "data": {
            "text/plain": [
              "1764"
            ]
          },
          "metadata": {}
        }
      ],
      "execution_count": 4,
      "metadata": {
        "execution": {
          "iopub.status.busy": "2020-06-24T04:21:51.170Z",
          "iopub.execute_input": "2020-06-24T04:21:51.202Z",
          "iopub.status.idle": "2020-06-24T04:21:51.447Z"
        }
      }
    },
    {
      "cell_type": "markdown",
      "source": [
        "Alternatively, we could have declared either of these functions in a single line"
      ],
      "metadata": {}
    },
    {
      "cell_type": "code",
      "source": [
        "sayhi2(name) = println(\"Hi $name, it's great to see you!\")"
      ],
      "outputs": [
        {
          "output_type": "execute_result",
          "execution_count": 5,
          "data": {
            "text/plain": [
              "sayhi2 (generic function with 1 method)"
            ]
          },
          "metadata": {}
        }
      ],
      "execution_count": 5,
      "metadata": {
        "execution": {
          "iopub.status.busy": "2020-06-24T04:21:53.356Z",
          "iopub.execute_input": "2020-06-24T04:21:53.381Z",
          "iopub.status.idle": "2020-06-24T04:21:53.497Z"
        }
      }
    },
    {
      "cell_type": "code",
      "source": [
        "f2(x) = x^2"
      ],
      "outputs": [
        {
          "output_type": "execute_result",
          "execution_count": 6,
          "data": {
            "text/plain": [
              "f2 (generic function with 1 method)"
            ]
          },
          "metadata": {}
        }
      ],
      "execution_count": 6,
      "metadata": {
        "execution": {
          "iopub.status.busy": "2020-06-24T04:21:54.978Z",
          "iopub.execute_input": "2020-06-24T04:21:55.000Z",
          "iopub.status.idle": "2020-06-24T04:21:55.084Z"
        }
      }
    },
    {
      "cell_type": "code",
      "source": [
        "sayhi2(\"R2D2\")"
      ],
      "outputs": [],
      "execution_count": null,
      "metadata": {}
    },
    {
      "cell_type": "code",
      "source": [
        "f2(42)"
      ],
      "outputs": [],
      "execution_count": null,
      "metadata": {}
    },
    {
      "cell_type": "markdown",
      "source": [
        "Finally, we could have declared these as \"anonymous\" functions"
      ],
      "metadata": {}
    },
    {
      "cell_type": "code",
      "source": [
        "sayhi3 = name -> println(\"Hi $name, it's great to see you!\")"
      ],
      "outputs": [
        {
          "output_type": "execute_result",
          "execution_count": 7,
          "data": {
            "text/plain": [
              "#3 (generic function with 1 method)"
            ]
          },
          "metadata": {}
        }
      ],
      "execution_count": 7,
      "metadata": {
        "execution": {
          "iopub.status.busy": "2020-06-24T04:22:01.220Z",
          "iopub.execute_input": "2020-06-24T04:22:01.238Z",
          "iopub.status.idle": "2020-06-24T04:22:01.324Z"
        }
      }
    },
    {
      "cell_type": "code",
      "source": [
        "f3 = x -> x^2"
      ],
      "outputs": [
        {
          "output_type": "execute_result",
          "execution_count": 8,
          "data": {
            "text/plain": [
              "#5 (generic function with 1 method)"
            ]
          },
          "metadata": {}
        }
      ],
      "execution_count": 8,
      "metadata": {
        "execution": {
          "iopub.status.busy": "2020-06-24T04:22:02.935Z",
          "iopub.execute_input": "2020-06-24T04:22:02.949Z",
          "iopub.status.idle": "2020-06-24T04:22:03.048Z"
        }
      }
    },
    {
      "cell_type": "code",
      "source": [
        "sayhi3(\"Chewbacca\")"
      ],
      "outputs": [
        {
          "output_type": "stream",
          "name": "stdout",
          "text": [
            "Hi Chewbacca, it's great to see you!\n"
          ]
        }
      ],
      "execution_count": 9,
      "metadata": {
        "execution": {
          "iopub.status.busy": "2020-06-24T04:22:11.070Z",
          "iopub.execute_input": "2020-06-24T04:22:11.085Z",
          "iopub.status.idle": "2020-06-24T04:22:11.119Z"
        }
      }
    },
    {
      "cell_type": "code",
      "source": [
        "f3(42)"
      ],
      "outputs": [
        {
          "output_type": "execute_result",
          "execution_count": 10,
          "data": {
            "text/plain": [
              "1764"
            ]
          },
          "metadata": {}
        }
      ],
      "execution_count": 10,
      "metadata": {
        "execution": {
          "iopub.status.busy": "2020-06-24T04:22:12.656Z",
          "iopub.execute_input": "2020-06-24T04:22:12.671Z",
          "iopub.status.idle": "2020-06-24T04:22:12.699Z"
        }
      }
    },
    {
      "cell_type": "markdown",
      "source": [
        "## Duck-typing in Julia\n",
        "*\"If it quacks like a duck, it's a duck.\"* <br><br>\n",
        "Julia functions will just work on whatever inputs make sense. <br><br>\n",
        "For example, `sayhi` works on the name of this minor tv character, written as an integer..."
      ],
      "metadata": {}
    },
    {
      "cell_type": "code",
      "source": [
        "sayhi(55595472)"
      ],
      "outputs": [
        {
          "output_type": "stream",
          "name": "stdout",
          "text": [
            "Hi 55595472, it's great to see you!\n"
          ]
        }
      ],
      "execution_count": 11,
      "metadata": {
        "execution": {
          "iopub.status.busy": "2020-06-24T04:22:21.446Z",
          "iopub.execute_input": "2020-06-24T04:22:21.463Z",
          "iopub.status.idle": "2020-06-24T04:22:21.494Z"
        }
      }
    },
    {
      "cell_type": "markdown",
      "source": [
        "And `f` will work on a matrix."
      ],
      "metadata": {}
    },
    {
      "cell_type": "code",
      "source": [
        "A = rand(3, 3)\n",
        "A"
      ],
      "outputs": [
        {
          "output_type": "execute_result",
          "execution_count": 12,
          "data": {
            "text/plain": [
              "3×3 Array{Float64,2}:\n",
              " 0.712186  0.316312  0.516442\n",
              " 0.791034  0.880767  0.898067\n",
              " 0.415131  0.231459  0.398648"
            ]
          },
          "metadata": {}
        }
      ],
      "execution_count": 12,
      "metadata": {
        "execution": {
          "iopub.status.busy": "2020-06-24T04:22:41.485Z",
          "iopub.execute_input": "2020-06-24T04:22:41.501Z",
          "iopub.status.idle": "2020-06-24T04:22:42.757Z"
        }
      }
    },
    {
      "cell_type": "code",
      "source": [
        "f(A)"
      ],
      "outputs": [
        {
          "output_type": "execute_result",
          "execution_count": 13,
          "data": {
            "text/plain": [
              "3×3 Array{Float64,2}:\n",
              " 0.971813  0.623405  0.85775\n",
              " 1.63289   1.23383   1.55752\n",
              " 0.644234  0.427443  0.581178"
            ]
          },
          "metadata": {}
        }
      ],
      "execution_count": 13,
      "metadata": {
        "execution": {
          "iopub.status.busy": "2020-06-24T04:22:45.530Z",
          "iopub.execute_input": "2020-06-24T04:22:45.546Z",
          "iopub.status.idle": "2020-06-24T04:22:46.754Z"
        }
      }
    },
    {
      "cell_type": "markdown",
      "source": [
        "`f` will also work on a string like \"hi\" because `*` is defined for string inputs as string concatenation."
      ],
      "metadata": {}
    },
    {
      "cell_type": "code",
      "source": [
        "f(\"hi\")"
      ],
      "outputs": [
        {
          "output_type": "execute_result",
          "execution_count": 14,
          "data": {
            "text/plain": [
              "\"hihi\""
            ]
          },
          "metadata": {}
        }
      ],
      "execution_count": 14,
      "metadata": {
        "execution": {
          "iopub.status.busy": "2020-06-24T04:22:56.042Z",
          "iopub.execute_input": "2020-06-24T04:22:56.062Z",
          "iopub.status.idle": "2020-06-24T04:22:56.360Z"
        }
      }
    },
    {
      "cell_type": "markdown",
      "source": [
        "On the other hand, `f` will not work on a vector. Unlike `A^2`, which is well-defined, the meaning of `v^2` for a vector, `v`, is not a well-defined algebraic operation."
      ],
      "metadata": {}
    },
    {
      "cell_type": "code",
      "source": [
        "v = rand(3)"
      ],
      "outputs": [
        {
          "output_type": "execute_result",
          "execution_count": 15,
          "data": {
            "text/plain": [
              "3-element Array{Float64,1}:\n",
              " 0.7732201443025144\n",
              " 0.796962040395248\n",
              " 0.002929730941968911"
            ]
          },
          "metadata": {}
        }
      ],
      "execution_count": 15,
      "metadata": {
        "execution": {
          "iopub.status.busy": "2020-06-24T04:23:06.204Z",
          "iopub.execute_input": "2020-06-24T04:23:06.232Z",
          "iopub.status.idle": "2020-06-24T04:23:07.188Z"
        }
      }
    },
    {
      "cell_type": "code",
      "source": [
        "f(v)"
      ],
      "outputs": [
        {
          "output_type": "error",
          "ename": "MethodError",
          "evalue": "MethodError: no method matching ^(::Array{Float64,1}, ::Int64)\nClosest candidates are:\n  ^(!Matched::Float16, ::Integer) at math.jl:885\n  ^(!Matched::Regex, ::Integer) at regex.jl:712\n  ^(!Matched::Missing, ::Integer) at missing.jl:155\n  ...",
          "traceback": [
            "MethodError: no method matching ^(::Array{Float64,1}, ::Int64)\nClosest candidates are:\n  ^(!Matched::Float16, ::Integer) at math.jl:885\n  ^(!Matched::Regex, ::Integer) at regex.jl:712\n  ^(!Matched::Missing, ::Integer) at missing.jl:155\n  ...",
            "",
            "Stacktrace:",
            " [1] macro expansion at .\\none:0 [inlined]",
            " [2] literal_pow at .\\none:0 [inlined]",
            " [3] f(::Array{Float64,1}) at .\\In[2]:2",
            " [4] top-level scope at In[16]:1"
          ]
        }
      ],
      "execution_count": 16,
      "metadata": {
        "execution": {
          "iopub.status.busy": "2020-06-24T04:23:09.008Z",
          "iopub.execute_input": "2020-06-24T04:23:09.031Z",
          "iopub.status.idle": "2020-06-24T04:23:09.428Z"
        }
      }
    },
    {
      "cell_type": "markdown",
      "source": [
        "## Mutating vs. non-mutating functions\n",
        "\n",
        "By convention, functions followed by `!` alter their contents and functions lacking `!` do not.\n",
        "\n",
        "For example, let's look at the difference between `sort` and `sort!`."
      ],
      "metadata": {}
    },
    {
      "cell_type": "code",
      "source": [
        "v = [3, 5, 2]"
      ],
      "outputs": [
        {
          "output_type": "execute_result",
          "execution_count": 17,
          "data": {
            "text/plain": [
              "3-element Array{Int64,1}:\n",
              " 3\n",
              " 5\n",
              " 2"
            ]
          },
          "metadata": {}
        }
      ],
      "execution_count": 17,
      "metadata": {
        "execution": {
          "iopub.status.busy": "2020-06-24T04:24:03.246Z",
          "iopub.execute_input": "2020-06-24T04:24:03.262Z",
          "iopub.status.idle": "2020-06-24T04:24:04.163Z"
        }
      }
    },
    {
      "cell_type": "code",
      "source": [
        "sort(v)"
      ],
      "outputs": [
        {
          "output_type": "execute_result",
          "execution_count": 18,
          "data": {
            "text/plain": [
              "3-element Array{Int64,1}:\n",
              " 2\n",
              " 3\n",
              " 5"
            ]
          },
          "metadata": {}
        }
      ],
      "execution_count": 18,
      "metadata": {
        "execution": {
          "iopub.status.busy": "2020-06-24T04:24:06.210Z",
          "iopub.execute_input": "2020-06-24T04:24:06.223Z",
          "iopub.status.idle": "2020-06-24T04:24:06.254Z"
        }
      }
    },
    {
      "cell_type": "code",
      "source": [
        "v"
      ],
      "outputs": [
        {
          "output_type": "execute_result",
          "execution_count": 19,
          "data": {
            "text/plain": [
              "3-element Array{Int64,1}:\n",
              " 3\n",
              " 5\n",
              " 2"
            ]
          },
          "metadata": {}
        }
      ],
      "execution_count": 19,
      "metadata": {
        "execution": {
          "iopub.status.busy": "2020-06-24T04:24:11.909Z",
          "iopub.execute_input": "2020-06-24T04:24:11.923Z",
          "iopub.status.idle": "2020-06-24T04:24:11.956Z"
        }
      }
    },
    {
      "cell_type": "markdown",
      "source": [
        "`sort(v)` returns a sorted array that contains the same elements as `v`, but `v` is left unchanged. <br><br>\n",
        "\n",
        "On the other hand, when we run `sort!(v)`, the contents of v are sorted within the array `v`."
      ],
      "metadata": {}
    },
    {
      "cell_type": "code",
      "source": [
        "sort!(v)"
      ],
      "outputs": [],
      "execution_count": null,
      "metadata": {}
    },
    {
      "cell_type": "code",
      "source": [
        "v"
      ],
      "outputs": [],
      "execution_count": null,
      "metadata": {}
    },
    {
      "cell_type": "markdown",
      "source": [
        "## Some higher order functions\n",
        "\n",
        "### map\n",
        "\n",
        "`map` is a \"higher-order\" function in Julia that *takes a function* as one of its input arguments.\n",
        "`map` then applies that function to every element of the data structure you pass it. For example, executing\n",
        "\n",
        "```julia\n",
        "map(f, [1, 2, 3])\n",
        "```\n",
        "will give you an output array where the function `f` has been applied to all elements of `[1, 2, 3]`\n",
        "```julia\n",
        "[f(1), f(2), f(3)]\n",
        "```"
      ],
      "metadata": {}
    },
    {
      "cell_type": "code",
      "source": [
        "map(f, [1, 2, 3])"
      ],
      "outputs": [
        {
          "output_type": "execute_result",
          "execution_count": 20,
          "data": {
            "text/plain": [
              "3-element Array{Int64,1}:\n",
              " 1\n",
              " 4\n",
              " 9"
            ]
          },
          "metadata": {}
        }
      ],
      "execution_count": 20,
      "metadata": {
        "execution": {
          "iopub.status.busy": "2020-06-24T04:25:13.908Z",
          "iopub.execute_input": "2020-06-24T04:25:13.928Z",
          "iopub.status.idle": "2020-06-24T04:25:13.989Z"
        }
      }
    },
    {
      "cell_type": "markdown",
      "source": [
        "Here we've squared all the elements of the vector `[1, 2, 3]`, rather than squaring the vector `[1, 2, 3]`.\n",
        "\n",
        "To do this, we could have passed to `map` an anonymous function rather than a named function, such as"
      ],
      "metadata": {}
    },
    {
      "cell_type": "code",
      "source": [
        "x -> x^3"
      ],
      "outputs": [
        {
          "output_type": "execute_result",
          "execution_count": 21,
          "data": {
            "text/plain": [
              "#7 (generic function with 1 method)"
            ]
          },
          "metadata": {}
        }
      ],
      "execution_count": 21,
      "metadata": {
        "execution": {
          "iopub.status.busy": "2020-06-24T04:25:17.841Z",
          "iopub.execute_input": "2020-06-24T04:25:17.859Z",
          "iopub.status.idle": "2020-06-24T04:25:17.953Z"
        }
      }
    },
    {
      "cell_type": "markdown",
      "source": [
        "via"
      ],
      "metadata": {}
    },
    {
      "cell_type": "code",
      "source": [
        "map(x -> x^3, [1, 2, 3])"
      ],
      "outputs": [
        {
          "output_type": "execute_result",
          "execution_count": 22,
          "data": {
            "text/plain": [
              "3-element Array{Int64,1}:\n",
              "  1\n",
              "  8\n",
              " 27"
            ]
          },
          "metadata": {}
        }
      ],
      "execution_count": 22,
      "metadata": {
        "execution": {
          "iopub.status.busy": "2020-06-24T04:25:22.912Z",
          "iopub.execute_input": "2020-06-24T04:25:22.926Z",
          "iopub.status.idle": "2020-06-24T04:25:22.967Z"
        }
      }
    },
    {
      "cell_type": "markdown",
      "source": [
        "and now we've cubed all the elements of `[1, 2, 3]`!"
      ],
      "metadata": {}
    },
    {
      "cell_type": "markdown",
      "source": [
        "### broadcast\n",
        "\n",
        "`broadcast` is another higher-order function like `map`. `broadcast` is a generalization of `map`, so it can do every thing `map` can do and more. The syntax for calling `broadcast` is the same as for calling `map`"
      ],
      "metadata": {}
    },
    {
      "cell_type": "code",
      "source": [
        "broadcast(f, [1, 2, 3])"
      ],
      "outputs": [
        {
          "output_type": "execute_result",
          "execution_count": 23,
          "data": {
            "text/plain": [
              "3-element Array{Int64,1}:\n",
              " 1\n",
              " 4\n",
              " 9"
            ]
          },
          "metadata": {}
        }
      ],
      "execution_count": 23,
      "metadata": {
        "execution": {
          "iopub.status.busy": "2020-06-24T04:26:03.821Z",
          "iopub.execute_input": "2020-06-24T04:26:03.839Z",
          "iopub.status.idle": "2020-06-24T04:26:03.873Z"
        }
      }
    },
    {
      "cell_type": "markdown",
      "source": [
        "and again, we've applied `f` (squared) to all the elements of `[1, 2, 3]` - this time by \"broadcasting\" `f`!\n",
        "\n",
        "Some syntactic sugar for calling `broadcast` is to place a `.` between the name of the function you want to `broadcast` and its input arguments. For example,\n",
        "\n",
        "```julia\n",
        "broadcast(f, [1, 2, 3])\n",
        "```\n",
        "is the same as\n",
        "```julia\n",
        "f.([1, 2, 3])\n",
        "```"
      ],
      "metadata": {}
    },
    {
      "cell_type": "code",
      "source": [
        "f.([1, 2, 3])"
      ],
      "outputs": [
        {
          "output_type": "execute_result",
          "execution_count": 24,
          "data": {
            "text/plain": [
              "3-element Array{Int64,1}:\n",
              " 1\n",
              " 4\n",
              " 9"
            ]
          },
          "metadata": {}
        }
      ],
      "execution_count": 24,
      "metadata": {
        "execution": {
          "iopub.status.busy": "2020-06-24T04:26:10.468Z",
          "iopub.execute_input": "2020-06-24T04:26:10.488Z",
          "iopub.status.idle": "2020-06-24T04:26:10.523Z"
        }
      }
    },
    {
      "cell_type": "markdown",
      "source": [
        "Notice again how different this is from calling\n",
        "```julia\n",
        "f([1, 2, 3])\n",
        "```\n",
        "We can square every element of a vector, but we can't square a vector!"
      ],
      "metadata": {}
    },
    {
      "cell_type": "markdown",
      "source": [
        "To drive home the point, let's look at the difference between\n",
        "\n",
        "```julia\n",
        "f(A)\n",
        "```\n",
        "and\n",
        "```julia\n",
        "f.(A)\n",
        "```\n",
        "for a matrix `A`:"
      ],
      "metadata": {}
    },
    {
      "cell_type": "code",
      "source": [
        "A = [i + 3*j for j in 0:2, i in 1:3]"
      ],
      "outputs": [
        {
          "output_type": "execute_result",
          "execution_count": 25,
          "data": {
            "text/plain": [
              "3×3 Array{Int64,2}:\n",
              " 1  2  3\n",
              " 4  5  6\n",
              " 7  8  9"
            ]
          },
          "metadata": {}
        }
      ],
      "execution_count": 25,
      "metadata": {
        "execution": {
          "iopub.status.busy": "2020-06-24T04:26:22.638Z",
          "iopub.execute_input": "2020-06-24T04:26:22.657Z",
          "iopub.status.idle": "2020-06-24T04:26:23.692Z"
        }
      }
    },
    {
      "cell_type": "code",
      "source": [
        "f(A)"
      ],
      "outputs": [
        {
          "output_type": "execute_result",
          "execution_count": 26,
          "data": {
            "text/plain": [
              "3×3 Array{Int64,2}:\n",
              "  30   36   42\n",
              "  66   81   96\n",
              " 102  126  150"
            ]
          },
          "metadata": {}
        }
      ],
      "execution_count": 26,
      "metadata": {
        "execution": {
          "iopub.status.busy": "2020-06-24T04:26:27.522Z",
          "iopub.execute_input": "2020-06-24T04:26:27.543Z",
          "iopub.status.idle": "2020-06-24T04:26:28.379Z"
        }
      }
    },
    {
      "cell_type": "markdown",
      "source": [
        "As before we see that for a matrix, `A`,\n",
        "```\n",
        "f(A) = A^2 = A * A\n",
        "```\n",
        "\n",
        "On the other hand,"
      ],
      "metadata": {}
    },
    {
      "cell_type": "code",
      "source": [
        "B = f.(A)"
      ],
      "outputs": [
        {
          "output_type": "execute_result",
          "execution_count": 27,
          "data": {
            "text/plain": [
              "3×3 Array{Int64,2}:\n",
              "  1   4   9\n",
              " 16  25  36\n",
              " 49  64  81"
            ]
          },
          "metadata": {}
        }
      ],
      "execution_count": 27,
      "metadata": {
        "execution": {
          "iopub.status.busy": "2020-06-24T04:26:33.150Z",
          "iopub.execute_input": "2020-06-24T04:26:33.177Z",
          "iopub.status.idle": "2020-06-24T04:26:33.222Z"
        }
      }
    },
    {
      "cell_type": "markdown",
      "source": [
        "contains the squares of all the entries of `A`.\n",
        "\n",
        "This dot syntax for broadcasting allows us to write relatively complex compound elementwise expressions in a way that looks natural/closer to mathematical notation. For example, we can write"
      ],
      "metadata": {}
    },
    {
      "cell_type": "code",
      "source": [
        "A .+ 2 .* f.(A) ./ A"
      ],
      "outputs": [],
      "execution_count": null,
      "metadata": {}
    },
    {
      "cell_type": "markdown",
      "source": [
        "instead of"
      ],
      "metadata": {}
    },
    {
      "cell_type": "code",
      "source": [
        "broadcast(x -> x + 2 * f(x) / x, A)"
      ],
      "outputs": [],
      "execution_count": null,
      "metadata": {}
    },
    {
      "cell_type": "markdown",
      "source": [
        "and the two will perform exactly the same."
      ],
      "metadata": {}
    },
    {
      "cell_type": "markdown",
      "source": [
        "### Exercises\n",
        "\n",
        "#### 6.1\n",
        "Write a function `add_one` that adds 1 to its input."
      ],
      "metadata": {}
    },
    {
      "cell_type": "code",
      "source": [
        "add_one(x) = x+1"
      ],
      "outputs": [
        {
          "output_type": "execute_result",
          "execution_count": 28,
          "data": {
            "text/plain": [
              "add_one (generic function with 1 method)"
            ]
          },
          "metadata": {}
        }
      ],
      "execution_count": 28,
      "metadata": {
        "collapsed": true,
        "jupyter": {
          "source_hidden": false,
          "outputs_hidden": false
        },
        "nteract": {
          "transient": {
            "deleting": false
          }
        },
        "execution": {
          "iopub.status.busy": "2020-06-24T04:28:28.787Z",
          "iopub.execute_input": "2020-06-24T04:28:28.808Z",
          "iopub.status.idle": "2020-06-24T04:28:28.892Z"
        }
      }
    },
    {
      "cell_type": "code",
      "source": [
        "@assert add_one(1) == 2"
      ],
      "outputs": [],
      "execution_count": 29,
      "metadata": {
        "execution": {
          "iopub.status.busy": "2020-06-24T04:28:30.916Z",
          "iopub.execute_input": "2020-06-24T04:28:30.934Z",
          "iopub.status.idle": "2020-06-24T04:28:30.956Z"
        }
      }
    },
    {
      "cell_type": "code",
      "source": [
        "@assert add_one(11) == 12"
      ],
      "outputs": [],
      "execution_count": 30,
      "metadata": {
        "execution": {
          "iopub.status.busy": "2020-06-24T04:28:32.484Z",
          "iopub.execute_input": "2020-06-24T04:28:32.496Z",
          "iopub.status.idle": "2020-06-24T04:28:32.514Z"
        }
      }
    },
    {
      "cell_type": "markdown",
      "source": [
        "#### 6.2\n",
        "Use `map` or `broadcast` to increment every element of matrix `A` by `1` and assign it to a variable `A1`."
      ],
      "metadata": {}
    },
    {
      "cell_type": "code",
      "source": [
        "A1 = add_one.(A)"
      ],
      "outputs": [
        {
          "output_type": "execute_result",
          "execution_count": 31,
          "data": {
            "text/plain": [
              "3×3 Array{Int64,2}:\n",
              " 2  3   4\n",
              " 5  6   7\n",
              " 8  9  10"
            ]
          },
          "metadata": {}
        }
      ],
      "execution_count": 31,
      "metadata": {
        "collapsed": true,
        "jupyter": {
          "source_hidden": false,
          "outputs_hidden": false
        },
        "nteract": {
          "transient": {
            "deleting": false
          }
        },
        "execution": {
          "iopub.status.busy": "2020-06-24T04:28:57.611Z",
          "iopub.execute_input": "2020-06-24T04:28:57.626Z",
          "iopub.status.idle": "2020-06-24T04:28:57.683Z"
        }
      }
    },
    {
      "cell_type": "markdown",
      "source": [
        "#### 6.3\n",
        "Use the broadcast dot syntax to increment every element of matrix `A1` by `1` and store it in variable `A2`"
      ],
      "metadata": {}
    },
    {
      "cell_type": "code",
      "source": [
        "A2 = broadcast(add_one, A1)"
      ],
      "outputs": [
        {
          "output_type": "execute_result",
          "execution_count": 33,
          "data": {
            "text/plain": [
              "3×3 Array{Int64,2}:\n",
              " 3   4   5\n",
              " 6   7   8\n",
              " 9  10  11"
            ]
          },
          "metadata": {}
        }
      ],
      "execution_count": 33,
      "metadata": {
        "collapsed": true,
        "jupyter": {
          "source_hidden": false,
          "outputs_hidden": false
        },
        "nteract": {
          "transient": {
            "deleting": false
          }
        },
        "execution": {
          "iopub.status.busy": "2020-06-24T04:29:52.051Z",
          "iopub.execute_input": "2020-06-24T04:29:52.068Z",
          "iopub.status.idle": "2020-06-24T04:29:52.098Z"
        }
      }
    },
    {
      "cell_type": "code",
      "source": [
        "@assert A2 == [3 4 5; 6 7 8;9 10 11]"
      ],
      "outputs": [],
      "execution_count": 34,
      "metadata": {
        "execution": {
          "iopub.status.busy": "2020-06-24T04:29:53.670Z",
          "iopub.execute_input": "2020-06-24T04:29:53.685Z",
          "iopub.status.idle": "2020-06-24T04:29:53.705Z"
        }
      }
    }
  ],
  "metadata": {
    "language_info": {
      "file_extension": ".jl",
      "name": "julia",
      "mimetype": "application/julia",
      "version": "1.4.2"
    },
    "kernelspec": {
      "name": "julia-1.0",
      "display_name": "Julia 1.0.3",
      "language": "julia"
    },
    "nteract": {
      "version": "0.23.3"
    }
  },
  "nbformat": 4,
  "nbformat_minor": 3
}